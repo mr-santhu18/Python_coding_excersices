{
 "cells": [
  {
   "cell_type": "markdown",
   "metadata": {},
   "source": [
    "Matplotlib library "
   ]
  },
  {
   "cell_type": "markdown",
   "metadata": {},
   "source": [
    "matplotlib methods for data visualisation\n",
    "\n",
    "1. plot() creates basic line plot\n",
    "2. scatter() creates scatter plot\n",
    "3. bar() creates bar plot\n",
    "4. hist() creates histogram plot\n",
    "5. boxplot() create boxplot\n",
    "6. pie() creates pie chart\n",
    "7. contour() creates contour plot\n",
    "8. hist2d() creates 2D histogram plot\n",
    "9. imshow() creates image plot"
   ]
  },
  {
   "cell_type": "markdown",
   "metadata": {},
   "source": [
    "pyplot-is a module in the matplotlib library of python that provides \n",
    "convenient interface for creating plots and charts."
   ]
  },
  {
   "cell_type": "markdown",
   "metadata": {},
   "source": [
    "different types of charts pyplot in python\n",
    "\n",
    "1.line charts\n",
    "2. bar charts\n",
    "3. histogram\n",
    "4. scatter plot\n",
    "5. pie plot\n",
    "6. box plot\n",
    "7. violin plot\n",
    "8. area plot\n",
    "9. hexbin plot\n",
    "10. contour plot\n",
    "11. quiver plot\n",
    "12. 2D plot\n",
    "13. 3D plot"
   ]
  }
 ],
 "metadata": {
  "language_info": {
   "name": "python"
  }
 },
 "nbformat": 4,
 "nbformat_minor": 2
}
